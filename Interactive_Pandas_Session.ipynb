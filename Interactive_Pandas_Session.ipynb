{
 "cells": [
  {
   "cell_type": "markdown",
   "id": "4def3a00",
   "metadata": {},
   "source": [
    "# Interactive Coding Activity: Data Manipulation with Pandas\n",
    "\n",
    "## Objective\n",
    "This Jupyter Notebook is designed to guide an interactive session on using the Pandas library for data manipulation in Python. The session will cover the basics of DataFrame creation, data exploration, cleaning, transformation, and aggregation.\n",
    "\n",
    "### Preparation\n",
    "- Ensure Pandas is installed: `!pip install pandas`\n",
    "- Download the dataset from [Kaggle](https://www.kaggle.com/datasets) or another source and load it into the notebook.\n"
   ]
  },
  {
   "cell_type": "code",
   "execution_count": null,
   "id": "96a15b9a",
   "metadata": {},
   "outputs": [],
   "source": [
    "import pandas as pd\n",
    "\n",
    "# Replace with the path to your dataset\n",
    "dataset_path = 'path_to_dataset.csv'\n",
    "df = pd.read_csv(dataset_path)\n"
   ]
  },
  {
   "cell_type": "markdown",
   "id": "c4c364ad",
   "metadata": {},
   "source": [
    "## Basic Data Exploration\n",
    "\n",
    "In this section, we'll perform basic operations to understand the structure and content of our DataFrame.\n",
    "\n",
    "- View the first few rows of the DataFrame.\n",
    "- Display summary statistics and information about the dataset.\n"
   ]
  },
  {
   "cell_type": "code",
   "execution_count": null,
   "id": "7c2f5b95",
   "metadata": {},
   "outputs": [],
   "source": [
    "# Display the first 10 rows\n",
    "df.head(10)\n"
   ]
  },
  {
   "cell_type": "code",
   "execution_count": null,
   "id": "a4d68e3b",
   "metadata": {},
   "outputs": [],
   "source": [
    "# Summary statistics and information\n",
    "df.describe()\n",
    "df.info()\n"
   ]
  },
  {
   "cell_type": "markdown",
   "id": "7cc28525",
   "metadata": {},
   "source": [
    "## Data Cleaning and Preparation\n",
    "\n",
    "- Handle missing values.\n",
    "- Rename columns for clarity.\n",
    "- Convert data types if necessary.\n"
   ]
  },
  {
   "cell_type": "code",
   "execution_count": null,
   "id": "045df410",
   "metadata": {},
   "outputs": [],
   "source": [
    "# Example: Handling missing values\n",
    "df.fillna(method='bfill', inplace=True)\n",
    "\n",
    "# Example: Renaming a column\n",
    "df.rename(columns={'OldName': 'NewName'}, inplace=True)\n"
   ]
  },
  {
   "cell_type": "markdown",
   "id": "ab4d8725",
   "metadata": {},
   "source": [
    "## Data Manipulation and Transformation\n",
    "\n",
    "- Filter, sort, and group data.\n",
    "- Create new columns based on existing data.\n",
    "- Perform operations using `groupby()`, `apply()`, and conditional filtering.\n"
   ]
  },
  {
   "cell_type": "code",
   "execution_count": null,
   "id": "0105c8cd",
   "metadata": {},
   "outputs": [],
   "source": [
    "# Example: Filtering data\n",
    "filtered_df = df[df['Column'] > some_value]\n",
    "\n",
    "# Example: Creating a new column\n",
    "df['NewColumn'] = df['ExistingColumn'].apply(some_function)\n"
   ]
  },
  {
   "cell_type": "markdown",
   "id": "863e47a8",
   "metadata": {},
   "source": [
    "## Interactive Exercise\n",
    "\n",
    "Now, it's your turn to explore the dataset. Here are some tasks to try:\n",
    "\n",
    "1. Identify the top 5 items in the dataset based on a certain criterion.\n",
    "2. Create a new column that categorizes data based on a specific rule.\n"
   ]
  },
  {
   "cell_type": "markdown",
   "id": "e82a5e85",
   "metadata": {},
   "source": [
    "## Discussion and Review\n",
    "\n",
    "- Discuss different methods or solutions used in the exercise.\n",
    "- Share insights and clarify complex concepts.\n"
   ]
  }
 ],
 "metadata": {},
 "nbformat": 4,
 "nbformat_minor": 5
}
